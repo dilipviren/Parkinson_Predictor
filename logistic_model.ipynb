{
 "cells": [
  {
   "cell_type": "code",
   "execution_count": 1,
   "id": "61484555",
   "metadata": {},
   "outputs": [],
   "source": [
    "import pandas as pd\n",
    "import numpy as np"
   ]
  },
  {
   "cell_type": "code",
   "execution_count": 2,
   "id": "5b9a6654",
   "metadata": {},
   "outputs": [
    {
     "data": {
      "text/html": [
       "<div>\n",
       "<style scoped>\n",
       "    .dataframe tbody tr th:only-of-type {\n",
       "        vertical-align: middle;\n",
       "    }\n",
       "\n",
       "    .dataframe tbody tr th {\n",
       "        vertical-align: top;\n",
       "    }\n",
       "\n",
       "    .dataframe thead th {\n",
       "        text-align: right;\n",
       "    }\n",
       "</style>\n",
       "<table border=\"1\" class=\"dataframe\">\n",
       "  <thead>\n",
       "    <tr style=\"text-align: right;\">\n",
       "      <th></th>\n",
       "      <th>name</th>\n",
       "      <th>MDVP:Fo(Hz)</th>\n",
       "      <th>MDVP:Fhi(Hz)</th>\n",
       "      <th>MDVP:Flo(Hz)</th>\n",
       "      <th>MDVP:Jitter(%)</th>\n",
       "      <th>MDVP:Jitter(Abs)</th>\n",
       "      <th>MDVP:RAP</th>\n",
       "      <th>MDVP:PPQ</th>\n",
       "      <th>Jitter:DDP</th>\n",
       "      <th>MDVP:Shimmer</th>\n",
       "      <th>...</th>\n",
       "      <th>Shimmer:DDA</th>\n",
       "      <th>NHR</th>\n",
       "      <th>HNR</th>\n",
       "      <th>status</th>\n",
       "      <th>RPDE</th>\n",
       "      <th>DFA</th>\n",
       "      <th>spread1</th>\n",
       "      <th>spread2</th>\n",
       "      <th>D2</th>\n",
       "      <th>PPE</th>\n",
       "    </tr>\n",
       "  </thead>\n",
       "  <tbody>\n",
       "    <tr>\n",
       "      <th>0</th>\n",
       "      <td>phon_R01_S01_1</td>\n",
       "      <td>119.992</td>\n",
       "      <td>157.302</td>\n",
       "      <td>74.997</td>\n",
       "      <td>0.00784</td>\n",
       "      <td>0.00007</td>\n",
       "      <td>0.00370</td>\n",
       "      <td>0.00554</td>\n",
       "      <td>0.01109</td>\n",
       "      <td>0.04374</td>\n",
       "      <td>...</td>\n",
       "      <td>0.06545</td>\n",
       "      <td>0.02211</td>\n",
       "      <td>21.033</td>\n",
       "      <td>1</td>\n",
       "      <td>0.414783</td>\n",
       "      <td>0.815285</td>\n",
       "      <td>-4.813031</td>\n",
       "      <td>0.266482</td>\n",
       "      <td>2.301442</td>\n",
       "      <td>0.284654</td>\n",
       "    </tr>\n",
       "    <tr>\n",
       "      <th>1</th>\n",
       "      <td>phon_R01_S01_2</td>\n",
       "      <td>122.400</td>\n",
       "      <td>148.650</td>\n",
       "      <td>113.819</td>\n",
       "      <td>0.00968</td>\n",
       "      <td>0.00008</td>\n",
       "      <td>0.00465</td>\n",
       "      <td>0.00696</td>\n",
       "      <td>0.01394</td>\n",
       "      <td>0.06134</td>\n",
       "      <td>...</td>\n",
       "      <td>0.09403</td>\n",
       "      <td>0.01929</td>\n",
       "      <td>19.085</td>\n",
       "      <td>1</td>\n",
       "      <td>0.458359</td>\n",
       "      <td>0.819521</td>\n",
       "      <td>-4.075192</td>\n",
       "      <td>0.335590</td>\n",
       "      <td>2.486855</td>\n",
       "      <td>0.368674</td>\n",
       "    </tr>\n",
       "    <tr>\n",
       "      <th>2</th>\n",
       "      <td>phon_R01_S01_3</td>\n",
       "      <td>116.682</td>\n",
       "      <td>131.111</td>\n",
       "      <td>111.555</td>\n",
       "      <td>0.01050</td>\n",
       "      <td>0.00009</td>\n",
       "      <td>0.00544</td>\n",
       "      <td>0.00781</td>\n",
       "      <td>0.01633</td>\n",
       "      <td>0.05233</td>\n",
       "      <td>...</td>\n",
       "      <td>0.08270</td>\n",
       "      <td>0.01309</td>\n",
       "      <td>20.651</td>\n",
       "      <td>1</td>\n",
       "      <td>0.429895</td>\n",
       "      <td>0.825288</td>\n",
       "      <td>-4.443179</td>\n",
       "      <td>0.311173</td>\n",
       "      <td>2.342259</td>\n",
       "      <td>0.332634</td>\n",
       "    </tr>\n",
       "    <tr>\n",
       "      <th>3</th>\n",
       "      <td>phon_R01_S01_4</td>\n",
       "      <td>116.676</td>\n",
       "      <td>137.871</td>\n",
       "      <td>111.366</td>\n",
       "      <td>0.00997</td>\n",
       "      <td>0.00009</td>\n",
       "      <td>0.00502</td>\n",
       "      <td>0.00698</td>\n",
       "      <td>0.01505</td>\n",
       "      <td>0.05492</td>\n",
       "      <td>...</td>\n",
       "      <td>0.08771</td>\n",
       "      <td>0.01353</td>\n",
       "      <td>20.644</td>\n",
       "      <td>1</td>\n",
       "      <td>0.434969</td>\n",
       "      <td>0.819235</td>\n",
       "      <td>-4.117501</td>\n",
       "      <td>0.334147</td>\n",
       "      <td>2.405554</td>\n",
       "      <td>0.368975</td>\n",
       "    </tr>\n",
       "    <tr>\n",
       "      <th>4</th>\n",
       "      <td>phon_R01_S01_5</td>\n",
       "      <td>116.014</td>\n",
       "      <td>141.781</td>\n",
       "      <td>110.655</td>\n",
       "      <td>0.01284</td>\n",
       "      <td>0.00011</td>\n",
       "      <td>0.00655</td>\n",
       "      <td>0.00908</td>\n",
       "      <td>0.01966</td>\n",
       "      <td>0.06425</td>\n",
       "      <td>...</td>\n",
       "      <td>0.10470</td>\n",
       "      <td>0.01767</td>\n",
       "      <td>19.649</td>\n",
       "      <td>1</td>\n",
       "      <td>0.417356</td>\n",
       "      <td>0.823484</td>\n",
       "      <td>-3.747787</td>\n",
       "      <td>0.234513</td>\n",
       "      <td>2.332180</td>\n",
       "      <td>0.410335</td>\n",
       "    </tr>\n",
       "  </tbody>\n",
       "</table>\n",
       "<p>5 rows × 24 columns</p>\n",
       "</div>"
      ],
      "text/plain": [
       "             name  MDVP:Fo(Hz)  MDVP:Fhi(Hz)  MDVP:Flo(Hz)  MDVP:Jitter(%)  \\\n",
       "0  phon_R01_S01_1      119.992       157.302        74.997         0.00784   \n",
       "1  phon_R01_S01_2      122.400       148.650       113.819         0.00968   \n",
       "2  phon_R01_S01_3      116.682       131.111       111.555         0.01050   \n",
       "3  phon_R01_S01_4      116.676       137.871       111.366         0.00997   \n",
       "4  phon_R01_S01_5      116.014       141.781       110.655         0.01284   \n",
       "\n",
       "   MDVP:Jitter(Abs)  MDVP:RAP  MDVP:PPQ  Jitter:DDP  MDVP:Shimmer  ...  \\\n",
       "0           0.00007   0.00370   0.00554     0.01109       0.04374  ...   \n",
       "1           0.00008   0.00465   0.00696     0.01394       0.06134  ...   \n",
       "2           0.00009   0.00544   0.00781     0.01633       0.05233  ...   \n",
       "3           0.00009   0.00502   0.00698     0.01505       0.05492  ...   \n",
       "4           0.00011   0.00655   0.00908     0.01966       0.06425  ...   \n",
       "\n",
       "   Shimmer:DDA      NHR     HNR  status      RPDE       DFA   spread1  \\\n",
       "0      0.06545  0.02211  21.033       1  0.414783  0.815285 -4.813031   \n",
       "1      0.09403  0.01929  19.085       1  0.458359  0.819521 -4.075192   \n",
       "2      0.08270  0.01309  20.651       1  0.429895  0.825288 -4.443179   \n",
       "3      0.08771  0.01353  20.644       1  0.434969  0.819235 -4.117501   \n",
       "4      0.10470  0.01767  19.649       1  0.417356  0.823484 -3.747787   \n",
       "\n",
       "    spread2        D2       PPE  \n",
       "0  0.266482  2.301442  0.284654  \n",
       "1  0.335590  2.486855  0.368674  \n",
       "2  0.311173  2.342259  0.332634  \n",
       "3  0.334147  2.405554  0.368975  \n",
       "4  0.234513  2.332180  0.410335  \n",
       "\n",
       "[5 rows x 24 columns]"
      ]
     },
     "execution_count": 2,
     "metadata": {},
     "output_type": "execute_result"
    }
   ],
   "source": [
    "df = pd.read_csv('vocal_data')\n",
    "df.head()"
   ]
  },
  {
   "cell_type": "code",
   "execution_count": 3,
   "id": "f4186031",
   "metadata": {},
   "outputs": [
    {
     "data": {
      "text/plain": [
       "Index(['MDVP:Fo(Hz)', 'MDVP:Fhi(Hz)', 'MDVP:Flo(Hz)', 'MDVP:Jitter(%)',\n",
       "       'MDVP:Jitter(Abs)', 'MDVP:RAP', 'MDVP:PPQ', 'Jitter:DDP',\n",
       "       'MDVP:Shimmer', 'MDVP:Shimmer(dB)', 'Shimmer:APQ3', 'Shimmer:APQ5',\n",
       "       'MDVP:APQ', 'Shimmer:DDA', 'NHR', 'HNR', 'status', 'RPDE', 'DFA',\n",
       "       'spread1', 'spread2', 'D2', 'PPE'],\n",
       "      dtype='object')"
      ]
     },
     "execution_count": 3,
     "metadata": {},
     "output_type": "execute_result"
    }
   ],
   "source": [
    "df.drop('name',inplace=True,axis=1)\n",
    "df.columns"
   ]
  },
  {
   "cell_type": "code",
   "execution_count": 4,
   "id": "fabcb092",
   "metadata": {},
   "outputs": [],
   "source": [
    "y = df['status']\n",
    "x = df.drop('status',axis=1)"
   ]
  },
  {
   "cell_type": "code",
   "execution_count": 5,
   "id": "6b3b6bd1",
   "metadata": {},
   "outputs": [],
   "source": [
    "from sklearn.model_selection import train_test_split\n",
    "xtrain, xtest, ytrain, ytest = train_test_split(x,y,test_size=0.2)"
   ]
  },
  {
   "cell_type": "code",
   "execution_count": 6,
   "id": "540beda8",
   "metadata": {},
   "outputs": [],
   "source": [
    "from sklearn.linear_model import LogisticRegression"
   ]
  },
  {
   "cell_type": "code",
   "execution_count": 7,
   "id": "6e4f5335",
   "metadata": {},
   "outputs": [
    {
     "name": "stderr",
     "output_type": "stream",
     "text": [
      "/opt/anaconda3/lib/python3.9/site-packages/sklearn/linear_model/_logistic.py:814: ConvergenceWarning: lbfgs failed to converge (status=1):\n",
      "STOP: TOTAL NO. of ITERATIONS REACHED LIMIT.\n",
      "\n",
      "Increase the number of iterations (max_iter) or scale the data as shown in:\n",
      "    https://scikit-learn.org/stable/modules/preprocessing.html\n",
      "Please also refer to the documentation for alternative solver options:\n",
      "    https://scikit-learn.org/stable/modules/linear_model.html#logistic-regression\n",
      "  n_iter_i = _check_optimize_result(\n"
     ]
    },
    {
     "data": {
      "text/plain": [
       "LogisticRegression()"
      ]
     },
     "execution_count": 7,
     "metadata": {},
     "output_type": "execute_result"
    }
   ],
   "source": [
    "logmodel1 = LogisticRegression()\n",
    "logmodel1.fit(xtrain,ytrain)"
   ]
  },
  {
   "cell_type": "code",
   "execution_count": 8,
   "id": "30de117f",
   "metadata": {},
   "outputs": [],
   "source": [
    "# we get an error that total number of iterations was reached \n",
    "# Therefore, we attempt to scale the independent variables according to their mean and variance"
   ]
  },
  {
   "cell_type": "code",
   "execution_count": 9,
   "id": "b555d0e1",
   "metadata": {},
   "outputs": [
    {
     "data": {
      "text/html": [
       "<div>\n",
       "<style scoped>\n",
       "    .dataframe tbody tr th:only-of-type {\n",
       "        vertical-align: middle;\n",
       "    }\n",
       "\n",
       "    .dataframe tbody tr th {\n",
       "        vertical-align: top;\n",
       "    }\n",
       "\n",
       "    .dataframe thead th {\n",
       "        text-align: right;\n",
       "    }\n",
       "</style>\n",
       "<table border=\"1\" class=\"dataframe\">\n",
       "  <thead>\n",
       "    <tr style=\"text-align: right;\">\n",
       "      <th></th>\n",
       "      <th>MDVP:Fo(Hz)</th>\n",
       "      <th>MDVP:Fhi(Hz)</th>\n",
       "      <th>MDVP:Flo(Hz)</th>\n",
       "      <th>MDVP:Jitter(%)</th>\n",
       "      <th>MDVP:Jitter(Abs)</th>\n",
       "      <th>MDVP:RAP</th>\n",
       "      <th>MDVP:PPQ</th>\n",
       "      <th>Jitter:DDP</th>\n",
       "      <th>MDVP:Shimmer</th>\n",
       "      <th>MDVP:Shimmer(dB)</th>\n",
       "      <th>...</th>\n",
       "      <th>MDVP:APQ</th>\n",
       "      <th>Shimmer:DDA</th>\n",
       "      <th>NHR</th>\n",
       "      <th>HNR</th>\n",
       "      <th>RPDE</th>\n",
       "      <th>DFA</th>\n",
       "      <th>spread1</th>\n",
       "      <th>spread2</th>\n",
       "      <th>D2</th>\n",
       "      <th>PPE</th>\n",
       "    </tr>\n",
       "  </thead>\n",
       "  <tbody>\n",
       "    <tr>\n",
       "      <th>0</th>\n",
       "      <td>-0.829300</td>\n",
       "      <td>-0.436165</td>\n",
       "      <td>-0.952037</td>\n",
       "      <td>0.334914</td>\n",
       "      <td>0.749759</td>\n",
       "      <td>0.132963</td>\n",
       "      <td>0.760800</td>\n",
       "      <td>0.131755</td>\n",
       "      <td>0.745985</td>\n",
       "      <td>0.739536</td>\n",
       "      <td>...</td>\n",
       "      <td>0.332985</td>\n",
       "      <td>0.607532</td>\n",
       "      <td>-0.067893</td>\n",
       "      <td>-0.193225</td>\n",
       "      <td>-0.807838</td>\n",
       "      <td>1.760814</td>\n",
       "      <td>0.801323</td>\n",
       "      <td>0.480477</td>\n",
       "      <td>-0.210531</td>\n",
       "      <td>0.868886</td>\n",
       "    </tr>\n",
       "    <tr>\n",
       "      <th>1</th>\n",
       "      <td>-0.770972</td>\n",
       "      <td>-0.530974</td>\n",
       "      <td>-0.057721</td>\n",
       "      <td>0.715418</td>\n",
       "      <td>1.037674</td>\n",
       "      <td>0.453892</td>\n",
       "      <td>1.276809</td>\n",
       "      <td>0.452684</td>\n",
       "      <td>1.681731</td>\n",
       "      <td>1.768464</td>\n",
       "      <td>...</td>\n",
       "      <td>1.159454</td>\n",
       "      <td>1.548254</td>\n",
       "      <td>-0.137843</td>\n",
       "      <td>-0.634508</td>\n",
       "      <td>-0.387524</td>\n",
       "      <td>1.837562</td>\n",
       "      <td>1.479853</td>\n",
       "      <td>1.311185</td>\n",
       "      <td>0.275077</td>\n",
       "      <td>1.803605</td>\n",
       "    </tr>\n",
       "    <tr>\n",
       "      <th>2</th>\n",
       "      <td>-0.909476</td>\n",
       "      <td>-0.723168</td>\n",
       "      <td>-0.109875</td>\n",
       "      <td>0.884991</td>\n",
       "      <td>1.325589</td>\n",
       "      <td>0.720770</td>\n",
       "      <td>1.585687</td>\n",
       "      <td>0.721813</td>\n",
       "      <td>1.202693</td>\n",
       "      <td>1.027636</td>\n",
       "      <td>...</td>\n",
       "      <td>0.699187</td>\n",
       "      <td>1.175323</td>\n",
       "      <td>-0.291633</td>\n",
       "      <td>-0.279760</td>\n",
       "      <td>-0.662075</td>\n",
       "      <td>1.942048</td>\n",
       "      <td>1.141445</td>\n",
       "      <td>1.017682</td>\n",
       "      <td>-0.103629</td>\n",
       "      <td>1.402661</td>\n",
       "    </tr>\n",
       "    <tr>\n",
       "      <th>3</th>\n",
       "      <td>-0.909622</td>\n",
       "      <td>-0.649092</td>\n",
       "      <td>-0.114229</td>\n",
       "      <td>0.775389</td>\n",
       "      <td>1.325589</td>\n",
       "      <td>0.578885</td>\n",
       "      <td>1.284076</td>\n",
       "      <td>0.577677</td>\n",
       "      <td>1.340396</td>\n",
       "      <td>1.207698</td>\n",
       "      <td>...</td>\n",
       "      <td>0.806859</td>\n",
       "      <td>1.340229</td>\n",
       "      <td>-0.280719</td>\n",
       "      <td>-0.281346</td>\n",
       "      <td>-0.613134</td>\n",
       "      <td>1.832380</td>\n",
       "      <td>1.440945</td>\n",
       "      <td>1.293840</td>\n",
       "      <td>0.062145</td>\n",
       "      <td>1.806954</td>\n",
       "    </tr>\n",
       "    <tr>\n",
       "      <th>4</th>\n",
       "      <td>-0.925657</td>\n",
       "      <td>-0.606245</td>\n",
       "      <td>-0.130608</td>\n",
       "      <td>1.368893</td>\n",
       "      <td>1.901418</td>\n",
       "      <td>1.095750</td>\n",
       "      <td>2.047187</td>\n",
       "      <td>1.096793</td>\n",
       "      <td>1.836448</td>\n",
       "      <td>1.552389</td>\n",
       "      <td>...</td>\n",
       "      <td>1.216839</td>\n",
       "      <td>1.899461</td>\n",
       "      <td>-0.178026</td>\n",
       "      <td>-0.506745</td>\n",
       "      <td>-0.783021</td>\n",
       "      <td>1.909364</td>\n",
       "      <td>1.780940</td>\n",
       "      <td>0.096195</td>\n",
       "      <td>-0.130026</td>\n",
       "      <td>2.267082</td>\n",
       "    </tr>\n",
       "  </tbody>\n",
       "</table>\n",
       "<p>5 rows × 22 columns</p>\n",
       "</div>"
      ],
      "text/plain": [
       "   MDVP:Fo(Hz)  MDVP:Fhi(Hz)  MDVP:Flo(Hz)  MDVP:Jitter(%)  MDVP:Jitter(Abs)  \\\n",
       "0    -0.829300     -0.436165     -0.952037        0.334914          0.749759   \n",
       "1    -0.770972     -0.530974     -0.057721        0.715418          1.037674   \n",
       "2    -0.909476     -0.723168     -0.109875        0.884991          1.325589   \n",
       "3    -0.909622     -0.649092     -0.114229        0.775389          1.325589   \n",
       "4    -0.925657     -0.606245     -0.130608        1.368893          1.901418   \n",
       "\n",
       "   MDVP:RAP  MDVP:PPQ  Jitter:DDP  MDVP:Shimmer  MDVP:Shimmer(dB)  ...  \\\n",
       "0  0.132963  0.760800    0.131755      0.745985          0.739536  ...   \n",
       "1  0.453892  1.276809    0.452684      1.681731          1.768464  ...   \n",
       "2  0.720770  1.585687    0.721813      1.202693          1.027636  ...   \n",
       "3  0.578885  1.284076    0.577677      1.340396          1.207698  ...   \n",
       "4  1.095750  2.047187    1.096793      1.836448          1.552389  ...   \n",
       "\n",
       "   MDVP:APQ  Shimmer:DDA       NHR       HNR      RPDE       DFA   spread1  \\\n",
       "0  0.332985     0.607532 -0.067893 -0.193225 -0.807838  1.760814  0.801323   \n",
       "1  1.159454     1.548254 -0.137843 -0.634508 -0.387524  1.837562  1.479853   \n",
       "2  0.699187     1.175323 -0.291633 -0.279760 -0.662075  1.942048  1.141445   \n",
       "3  0.806859     1.340229 -0.280719 -0.281346 -0.613134  1.832380  1.440945   \n",
       "4  1.216839     1.899461 -0.178026 -0.506745 -0.783021  1.909364  1.780940   \n",
       "\n",
       "    spread2        D2       PPE  \n",
       "0  0.480477 -0.210531  0.868886  \n",
       "1  1.311185  0.275077  1.803605  \n",
       "2  1.017682 -0.103629  1.402661  \n",
       "3  1.293840  0.062145  1.806954  \n",
       "4  0.096195 -0.130026  2.267082  \n",
       "\n",
       "[5 rows x 22 columns]"
      ]
     },
     "execution_count": 9,
     "metadata": {},
     "output_type": "execute_result"
    }
   ],
   "source": [
    "a = pd.DataFrame(x,index=None)\n",
    "for i in a.columns:\n",
    "    mean = np.mean(a[i])\n",
    "    std = np.std(a[i])\n",
    "    a[i] = (a[i]-mean)/std\n",
    "a.head()"
   ]
  },
  {
   "cell_type": "code",
   "execution_count": 10,
   "id": "e469ede0",
   "metadata": {},
   "outputs": [],
   "source": [
    "x = a.squeeze()\n",
    "y = df['status']"
   ]
  },
  {
   "cell_type": "code",
   "execution_count": 11,
   "id": "38442b73",
   "metadata": {},
   "outputs": [],
   "source": [
    "from sklearn.model_selection import train_test_split\n",
    "xtrain, xtest, ytrain, ytest = train_test_split(x,y,test_size=0.2)"
   ]
  },
  {
   "cell_type": "code",
   "execution_count": 12,
   "id": "d0dac234",
   "metadata": {},
   "outputs": [
    {
     "data": {
      "text/plain": [
       "LogisticRegression()"
      ]
     },
     "execution_count": 12,
     "metadata": {},
     "output_type": "execute_result"
    }
   ],
   "source": [
    "logmodel2 = LogisticRegression()\n",
    "logmodel2.fit(xtrain,ytrain)"
   ]
  },
  {
   "cell_type": "code",
   "execution_count": 13,
   "id": "c45e3923",
   "metadata": {},
   "outputs": [],
   "source": [
    "predictions = logmodel2.predict(xtest)"
   ]
  },
  {
   "cell_type": "code",
   "execution_count": 14,
   "id": "e1463f69",
   "metadata": {},
   "outputs": [
    {
     "data": {
      "text/plain": [
       "array([[ 8,  1],\n",
       "       [ 2, 28]])"
      ]
     },
     "execution_count": 14,
     "metadata": {},
     "output_type": "execute_result"
    }
   ],
   "source": [
    "from sklearn.metrics import classification_report, confusion_matrix\n",
    "confusion_matrix(ytest,predictions)"
   ]
  },
  {
   "cell_type": "code",
   "execution_count": 15,
   "id": "ddadfa46",
   "metadata": {},
   "outputs": [
    {
     "name": "stdout",
     "output_type": "stream",
     "text": [
      "              precision    recall  f1-score   support\n",
      "\n",
      "           0       0.80      0.89      0.84         9\n",
      "           1       0.97      0.93      0.95        30\n",
      "\n",
      "    accuracy                           0.92        39\n",
      "   macro avg       0.88      0.91      0.90        39\n",
      "weighted avg       0.93      0.92      0.92        39\n",
      "\n"
     ]
    }
   ],
   "source": [
    "print(classification_report(ytest,predictions))\n"
   ]
  },
  {
   "cell_type": "code",
   "execution_count": null,
   "id": "b894d396",
   "metadata": {},
   "outputs": [],
   "source": []
  },
  {
   "cell_type": "code",
   "execution_count": 16,
   "id": "70f6f9be",
   "metadata": {},
   "outputs": [],
   "source": [
    "# We can implement a forward, backward or stepwise algorithm to determine the most important\n",
    "# indepenedent variables from the ones available"
   ]
  },
  {
   "cell_type": "code",
   "execution_count": 17,
   "id": "1232fd81",
   "metadata": {},
   "outputs": [],
   "source": [
    "# For this, we make use of native packages in R language"
   ]
  },
  {
   "cell_type": "code",
   "execution_count": 18,
   "id": "d1b8af07",
   "metadata": {},
   "outputs": [],
   "source": [
    "# Using R, we have calculated 3 sets of dependent variables for each method"
   ]
  },
  {
   "cell_type": "code",
   "execution_count": 19,
   "id": "15131793",
   "metadata": {},
   "outputs": [],
   "source": [
    "# Forward selection adds every possible variable and is thus disregarded"
   ]
  },
  {
   "cell_type": "code",
   "execution_count": 20,
   "id": "c31e0cc8",
   "metadata": {},
   "outputs": [],
   "source": [
    "# Backward and stepwise selection both include the same variables in the model"
   ]
  },
  {
   "cell_type": "code",
   "execution_count": 21,
   "id": "11a32b5f",
   "metadata": {},
   "outputs": [
    {
     "data": {
      "text/plain": [
       "Index(['MDVP:Fo(Hz)', 'MDVP:Fhi(Hz)', 'MDVP:Flo(Hz)', 'MDVP:Jitter(%)',\n",
       "       'MDVP:Jitter(Abs)', 'MDVP:RAP', 'MDVP:PPQ', 'Jitter:DDP',\n",
       "       'MDVP:Shimmer', 'MDVP:Shimmer(dB)', 'Shimmer:APQ3', 'Shimmer:APQ5',\n",
       "       'MDVP:APQ', 'Shimmer:DDA', 'NHR', 'HNR', 'RPDE', 'DFA', 'spread1',\n",
       "       'spread2', 'D2', 'PPE'],\n",
       "      dtype='object')"
      ]
     },
     "execution_count": 21,
     "metadata": {},
     "output_type": "execute_result"
    }
   ],
   "source": [
    "xtrain.columns"
   ]
  },
  {
   "cell_type": "code",
   "execution_count": 22,
   "id": "8dea8bc9",
   "metadata": {},
   "outputs": [],
   "source": [
    "selection = ['MDVP:Fo(Hz)', 'MDVP:Flo(Hz)','MDVP:Jitter(%)',\n",
    "             'MDVP:Jitter(Abs)', 'Jitter:DDP', 'MDVP:Shimmer', \n",
    "             'RPDE', 'spread1', 'spread2']\n"
   ]
  },
  {
   "cell_type": "code",
   "execution_count": 23,
   "id": "9fa1f268",
   "metadata": {},
   "outputs": [
    {
     "data": {
      "text/plain": [
       "Index(['MDVP:Fo(Hz)', 'MDVP:Flo(Hz)', 'MDVP:Jitter(%)', 'MDVP:Jitter(Abs)',\n",
       "       'Jitter:DDP', 'MDVP:Shimmer', 'RPDE', 'spread1', 'spread2'],\n",
       "      dtype='object')"
      ]
     },
     "execution_count": 23,
     "metadata": {},
     "output_type": "execute_result"
    }
   ],
   "source": [
    "selected_xtrain = xtrain[selection]\n",
    "selected_xtrain.columns"
   ]
  },
  {
   "cell_type": "code",
   "execution_count": 24,
   "id": "0873eea4",
   "metadata": {},
   "outputs": [
    {
     "data": {
      "text/plain": [
       "LogisticRegression()"
      ]
     },
     "execution_count": 24,
     "metadata": {},
     "output_type": "execute_result"
    }
   ],
   "source": [
    "ss_logmodel = LogisticRegression()\n",
    "ss_logmodel.fit(selected_xtrain, ytrain)"
   ]
  },
  {
   "cell_type": "code",
   "execution_count": 25,
   "id": "dc6de0a4",
   "metadata": {},
   "outputs": [],
   "source": [
    "selected_xtest = xtest[selection]\n",
    "ss_predictions = ss_logmodel.predict(selected_xtest)"
   ]
  },
  {
   "cell_type": "code",
   "execution_count": 26,
   "id": "fbdcd36b",
   "metadata": {},
   "outputs": [
    {
     "name": "stdout",
     "output_type": "stream",
     "text": [
      "[[ 8  2]\n",
      " [ 1 28]]\n"
     ]
    }
   ],
   "source": [
    "print(confusion_matrix(ss_predictions, ytest))"
   ]
  },
  {
   "cell_type": "code",
   "execution_count": 27,
   "id": "2546d36a",
   "metadata": {},
   "outputs": [
    {
     "name": "stdout",
     "output_type": "stream",
     "text": [
      "              precision    recall  f1-score   support\n",
      "\n",
      "           0       0.89      0.80      0.84        10\n",
      "           1       0.93      0.97      0.95        29\n",
      "\n",
      "    accuracy                           0.92        39\n",
      "   macro avg       0.91      0.88      0.90        39\n",
      "weighted avg       0.92      0.92      0.92        39\n",
      "\n"
     ]
    }
   ],
   "source": [
    "print(classification_report(ss_predictions, ytest))"
   ]
  },
  {
   "cell_type": "code",
   "execution_count": 28,
   "id": "e69dd09b",
   "metadata": {},
   "outputs": [],
   "source": [
    "# Use of the subset of variables does not provide any significant increase in the accuracy\n",
    "# Therefore, a different method for reducing the number of features is required"
   ]
  },
  {
   "cell_type": "code",
   "execution_count": 29,
   "id": "a492accd",
   "metadata": {},
   "outputs": [],
   "source": [
    "# Lasso Regression:"
   ]
  },
  {
   "cell_type": "code",
   "execution_count": 30,
   "id": "ecb5ca24",
   "metadata": {},
   "outputs": [
    {
     "data": {
      "text/plain": [
       "LogisticRegression(penalty='l1', solver='liblinear')"
      ]
     },
     "execution_count": 30,
     "metadata": {},
     "output_type": "execute_result"
    }
   ],
   "source": [
    "lasso_model = LogisticRegression(penalty='l1', solver='liblinear')\n",
    "lasso_model.fit(xtrain, ytrain)"
   ]
  },
  {
   "cell_type": "code",
   "execution_count": 31,
   "id": "16b50bd6",
   "metadata": {},
   "outputs": [
    {
     "name": "stdout",
     "output_type": "stream",
     "text": [
      "              precision    recall  f1-score   support\n",
      "\n",
      "           0       0.89      0.80      0.84        10\n",
      "           1       0.93      0.97      0.95        29\n",
      "\n",
      "    accuracy                           0.92        39\n",
      "   macro avg       0.91      0.88      0.90        39\n",
      "weighted avg       0.92      0.92      0.92        39\n",
      "\n",
      "[[ 8  2]\n",
      " [ 1 28]]\n"
     ]
    }
   ],
   "source": [
    "l_predictions = lasso_model.predict(xtest)\n",
    "print(classification_report(l_predictions, ytest))\n",
    "print(confusion_matrix(l_predictions, ytest))"
   ]
  },
  {
   "cell_type": "code",
   "execution_count": 32,
   "id": "871fa818",
   "metadata": {},
   "outputs": [
    {
     "data": {
      "text/plain": [
       "array([[-0.01363545, -0.15392422,  0.        , -0.14750447,  0.        ,\n",
       "         0.        ,  0.        ,  0.        ,  0.        ,  0.        ,\n",
       "         0.        ,  0.        ,  0.89477811,  0.        ,  0.        ,\n",
       "         0.20187209, -0.05083421,  0.40183895,  1.47870264,  0.26561807,\n",
       "         0.66414435,  0.15419573]])"
      ]
     },
     "execution_count": 32,
     "metadata": {},
     "output_type": "execute_result"
    }
   ],
   "source": [
    "lasso_model.coef_"
   ]
  },
  {
   "cell_type": "code",
   "execution_count": 33,
   "id": "20f67c27",
   "metadata": {},
   "outputs": [],
   "source": [
    "# Clearly, the lasso method has forced some of the co-efficients to zero\n",
    "# However, this does not result in a significant increase in accuracy"
   ]
  },
  {
   "cell_type": "code",
   "execution_count": 34,
   "id": "89ef0874",
   "metadata": {},
   "outputs": [],
   "source": [
    "# We can use recursive feature selection to decrease the number of variables in the model\n",
    "# this method selects the top n most important variables"
   ]
  },
  {
   "cell_type": "code",
   "execution_count": 38,
   "id": "43bb21ad",
   "metadata": {},
   "outputs": [],
   "source": [
    "from sklearn.feature_selection import RFE\n",
    "from sklearn.metrics import accuracy_score"
   ]
  },
  {
   "cell_type": "code",
   "execution_count": 39,
   "id": "1d71bc10",
   "metadata": {},
   "outputs": [],
   "source": [
    "# Since we have 22 variables in total\n",
    "# We can select any number of features between 1 and 22\n",
    "# For convenience we will take the number of features between 5 and 17"
   ]
  },
  {
   "cell_type": "code",
   "execution_count": 53,
   "id": "80db44dc",
   "metadata": {},
   "outputs": [
    {
     "name": "stdout",
     "output_type": "stream",
     "text": [
      "Accuracy with 1 variables: 0.9230769230769231\n",
      "              precision    recall  f1-score   support\n",
      "\n",
      "           0       0.80      0.89      0.84         9\n",
      "           1       0.97      0.93      0.95        30\n",
      "\n",
      "    accuracy                           0.92        39\n",
      "   macro avg       0.88      0.91      0.90        39\n",
      "weighted avg       0.93      0.92      0.92        39\n",
      "\n",
      "Accuracy with 2 variables: 0.9230769230769231\n",
      "              precision    recall  f1-score   support\n",
      "\n",
      "           0       0.80      0.89      0.84         9\n",
      "           1       0.97      0.93      0.95        30\n",
      "\n",
      "    accuracy                           0.92        39\n",
      "   macro avg       0.88      0.91      0.90        39\n",
      "weighted avg       0.93      0.92      0.92        39\n",
      "\n",
      "Accuracy with 3 variables: 0.8974358974358975\n",
      "              precision    recall  f1-score   support\n",
      "\n",
      "           0       0.73      0.89      0.80         9\n",
      "           1       0.96      0.90      0.93        30\n",
      "\n",
      "    accuracy                           0.90        39\n",
      "   macro avg       0.85      0.89      0.87        39\n",
      "weighted avg       0.91      0.90      0.90        39\n",
      "\n",
      "Accuracy with 4 variables: 0.8974358974358975\n",
      "              precision    recall  f1-score   support\n",
      "\n",
      "           0       0.73      0.89      0.80         9\n",
      "           1       0.96      0.90      0.93        30\n",
      "\n",
      "    accuracy                           0.90        39\n",
      "   macro avg       0.85      0.89      0.87        39\n",
      "weighted avg       0.91      0.90      0.90        39\n",
      "\n",
      "Accuracy with 5 variables: 0.9230769230769231\n",
      "              precision    recall  f1-score   support\n",
      "\n",
      "           0       0.80      0.89      0.84         9\n",
      "           1       0.97      0.93      0.95        30\n",
      "\n",
      "    accuracy                           0.92        39\n",
      "   macro avg       0.88      0.91      0.90        39\n",
      "weighted avg       0.93      0.92      0.92        39\n",
      "\n",
      "Accuracy with 6 variables: 0.8974358974358975\n",
      "              precision    recall  f1-score   support\n",
      "\n",
      "           0       0.73      0.89      0.80         9\n",
      "           1       0.96      0.90      0.93        30\n",
      "\n",
      "    accuracy                           0.90        39\n",
      "   macro avg       0.85      0.89      0.87        39\n",
      "weighted avg       0.91      0.90      0.90        39\n",
      "\n",
      "Accuracy with 7 variables: 0.8974358974358975\n",
      "              precision    recall  f1-score   support\n",
      "\n",
      "           0       0.73      0.89      0.80         9\n",
      "           1       0.96      0.90      0.93        30\n",
      "\n",
      "    accuracy                           0.90        39\n",
      "   macro avg       0.85      0.89      0.87        39\n",
      "weighted avg       0.91      0.90      0.90        39\n",
      "\n",
      "Accuracy with 8 variables: 0.8974358974358975\n",
      "              precision    recall  f1-score   support\n",
      "\n",
      "           0       0.73      0.89      0.80         9\n",
      "           1       0.96      0.90      0.93        30\n",
      "\n",
      "    accuracy                           0.90        39\n",
      "   macro avg       0.85      0.89      0.87        39\n",
      "weighted avg       0.91      0.90      0.90        39\n",
      "\n",
      "Accuracy with 9 variables: 0.8974358974358975\n",
      "              precision    recall  f1-score   support\n",
      "\n",
      "           0       0.73      0.89      0.80         9\n",
      "           1       0.96      0.90      0.93        30\n",
      "\n",
      "    accuracy                           0.90        39\n",
      "   macro avg       0.85      0.89      0.87        39\n",
      "weighted avg       0.91      0.90      0.90        39\n",
      "\n",
      "Accuracy with 10 variables: 0.8974358974358975\n",
      "              precision    recall  f1-score   support\n",
      "\n",
      "           0       0.73      0.89      0.80         9\n",
      "           1       0.96      0.90      0.93        30\n",
      "\n",
      "    accuracy                           0.90        39\n",
      "   macro avg       0.85      0.89      0.87        39\n",
      "weighted avg       0.91      0.90      0.90        39\n",
      "\n",
      "Accuracy with 11 variables: 0.9230769230769231\n",
      "              precision    recall  f1-score   support\n",
      "\n",
      "           0       0.80      0.89      0.84         9\n",
      "           1       0.97      0.93      0.95        30\n",
      "\n",
      "    accuracy                           0.92        39\n",
      "   macro avg       0.88      0.91      0.90        39\n",
      "weighted avg       0.93      0.92      0.92        39\n",
      "\n",
      "Accuracy with 12 variables: 0.9230769230769231\n",
      "              precision    recall  f1-score   support\n",
      "\n",
      "           0       0.80      0.89      0.84         9\n",
      "           1       0.97      0.93      0.95        30\n",
      "\n",
      "    accuracy                           0.92        39\n",
      "   macro avg       0.88      0.91      0.90        39\n",
      "weighted avg       0.93      0.92      0.92        39\n",
      "\n",
      "Accuracy with 13 variables: 0.9230769230769231\n",
      "              precision    recall  f1-score   support\n",
      "\n",
      "           0       0.80      0.89      0.84         9\n",
      "           1       0.97      0.93      0.95        30\n",
      "\n",
      "    accuracy                           0.92        39\n",
      "   macro avg       0.88      0.91      0.90        39\n",
      "weighted avg       0.93      0.92      0.92        39\n",
      "\n",
      "Accuracy with 14 variables: 0.9230769230769231\n",
      "              precision    recall  f1-score   support\n",
      "\n",
      "           0       0.80      0.89      0.84         9\n",
      "           1       0.97      0.93      0.95        30\n",
      "\n",
      "    accuracy                           0.92        39\n",
      "   macro avg       0.88      0.91      0.90        39\n",
      "weighted avg       0.93      0.92      0.92        39\n",
      "\n",
      "Accuracy with 15 variables: 0.9230769230769231\n",
      "              precision    recall  f1-score   support\n",
      "\n",
      "           0       0.80      0.89      0.84         9\n",
      "           1       0.97      0.93      0.95        30\n",
      "\n",
      "    accuracy                           0.92        39\n",
      "   macro avg       0.88      0.91      0.90        39\n",
      "weighted avg       0.93      0.92      0.92        39\n",
      "\n",
      "Accuracy with 16 variables: 0.9230769230769231\n",
      "              precision    recall  f1-score   support\n",
      "\n",
      "           0       0.80      0.89      0.84         9\n",
      "           1       0.97      0.93      0.95        30\n",
      "\n",
      "    accuracy                           0.92        39\n",
      "   macro avg       0.88      0.91      0.90        39\n",
      "weighted avg       0.93      0.92      0.92        39\n",
      "\n",
      "Accuracy with 17 variables: 0.9230769230769231\n",
      "              precision    recall  f1-score   support\n",
      "\n",
      "           0       0.80      0.89      0.84         9\n",
      "           1       0.97      0.93      0.95        30\n",
      "\n",
      "    accuracy                           0.92        39\n",
      "   macro avg       0.88      0.91      0.90        39\n",
      "weighted avg       0.93      0.92      0.92        39\n",
      "\n",
      "Accuracy with 18 variables: 0.9230769230769231\n",
      "              precision    recall  f1-score   support\n",
      "\n",
      "           0       0.80      0.89      0.84         9\n",
      "           1       0.97      0.93      0.95        30\n",
      "\n",
      "    accuracy                           0.92        39\n",
      "   macro avg       0.88      0.91      0.90        39\n",
      "weighted avg       0.93      0.92      0.92        39\n",
      "\n",
      "Accuracy with 19 variables: 0.9230769230769231\n",
      "              precision    recall  f1-score   support\n",
      "\n",
      "           0       0.80      0.89      0.84         9\n",
      "           1       0.97      0.93      0.95        30\n",
      "\n",
      "    accuracy                           0.92        39\n",
      "   macro avg       0.88      0.91      0.90        39\n",
      "weighted avg       0.93      0.92      0.92        39\n",
      "\n",
      "Accuracy with 20 variables: 0.9230769230769231\n",
      "              precision    recall  f1-score   support\n",
      "\n",
      "           0       0.80      0.89      0.84         9\n",
      "           1       0.97      0.93      0.95        30\n",
      "\n",
      "    accuracy                           0.92        39\n",
      "   macro avg       0.88      0.91      0.90        39\n",
      "weighted avg       0.93      0.92      0.92        39\n",
      "\n",
      "Accuracy with 21 variables: 0.9230769230769231\n",
      "              precision    recall  f1-score   support\n",
      "\n",
      "           0       0.80      0.89      0.84         9\n",
      "           1       0.97      0.93      0.95        30\n",
      "\n",
      "    accuracy                           0.92        39\n",
      "   macro avg       0.88      0.91      0.90        39\n",
      "weighted avg       0.93      0.92      0.92        39\n",
      "\n",
      "Accuracy with 22 variables: 0.9230769230769231\n",
      "              precision    recall  f1-score   support\n",
      "\n",
      "           0       0.80      0.89      0.84         9\n",
      "           1       0.97      0.93      0.95        30\n",
      "\n",
      "    accuracy                           0.92        39\n",
      "   macro avg       0.88      0.91      0.90        39\n",
      "weighted avg       0.93      0.92      0.92        39\n",
      "\n"
     ]
    }
   ],
   "source": [
    "results = {}\n",
    "for i in range(1,23):\n",
    "    rfemodel = LogisticRegression()\n",
    "    rfe = RFE(estimator = rfemodel, n_features_to_select=i)\n",
    "    rfe.fit(xtrain, ytrain)\n",
    "    \n",
    "    xtrain_rfe = rfe.transform(xtrain)\n",
    "    xtest_rfe = rfe.transform(xtest)\n",
    "    \n",
    "    rfemodel.fit(xtrain_rfe, ytrain)\n",
    "    \n",
    "    ypred = rfemodel.predict(xtest_rfe)\n",
    "    \n",
    "    accuracy = accuracy_score(ytest, ypred)\n",
    "    print('Accuracy with {} variables: {}'.format(i,accuracy))\n",
    "    results[i] = accuracy\n",
    "    print(classification_report(ytest,ypred))"
   ]
  },
  {
   "cell_type": "code",
   "execution_count": 54,
   "id": "07fe722b",
   "metadata": {},
   "outputs": [
    {
     "name": "stdout",
     "output_type": "stream",
     "text": [
      "{1: 0.9230769230769231, 2: 0.9230769230769231, 3: 0.8974358974358975, 4: 0.8974358974358975, 5: 0.9230769230769231, 6: 0.8974358974358975, 7: 0.8974358974358975, 8: 0.8974358974358975, 9: 0.8974358974358975, 10: 0.8974358974358975, 11: 0.9230769230769231, 12: 0.9230769230769231, 13: 0.9230769230769231, 14: 0.9230769230769231, 15: 0.9230769230769231, 16: 0.9230769230769231, 17: 0.9230769230769231, 18: 0.9230769230769231, 19: 0.9230769230769231, 20: 0.9230769230769231, 21: 0.9230769230769231, 22: 0.9230769230769231}\n"
     ]
    }
   ],
   "source": [
    "print(results)"
   ]
  },
  {
   "cell_type": "code",
   "execution_count": 62,
   "id": "32456f01",
   "metadata": {},
   "outputs": [
    {
     "data": {
      "image/png": "[encoded data removed]",
      "text/plain": [
       "<Figure size 640x480 with 1 Axes>"
      ]
     },
     "metadata": {},
     "output_type": "display_data"
    }
   ],
   "source": [
    "import matplotlib.pyplot as plt\n",
    "keys = results.keys()\n",
    "values = results.values()\n",
    "plt.plot(keys, values)\n",
    "plt.xlabel('No. of features')\n",
    "plt.ylabel('Accuracy Scores')\n",
    "plt.show()"
   ]
  },
  {
   "cell_type": "code",
   "execution_count": 63,
   "id": "fc730c83",
   "metadata": {},
   "outputs": [],
   "source": [
    "# Clearly, the number of features included does not provide any signficant improvement \n",
    "# in accuracy. "
   ]
  },
  {
   "cell_type": "code",
   "execution_count": null,
   "id": "5540d466",
   "metadata": {},
   "outputs": [],
   "source": []
  }
 ],
 "metadata": {
  "kernelspec": {
   "display_name": "Python 3 (ipykernel)",
   "language": "python",
   "name": "python3"
  },
  "language_info": {
   "codemirror_mode": {
    "name": "ipython",
    "version": 3
   },
   "file_extension": ".py",
   "mimetype": "text/x-python",
   "name": "python",
   "nbconvert_exporter": "python",
   "pygments_lexer": "ipython3",
   "version": "3.9.13"
  }
 },
 "nbformat": 4,
 "nbformat_minor": 5
}
