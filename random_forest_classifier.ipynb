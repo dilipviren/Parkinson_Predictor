{
 "cells": [
  {
   "cell_type": "code",
   "execution_count": 1,
   "id": "27e5cbdc",
   "metadata": {},
   "outputs": [],
   "source": [
    "import pandas as pd\n",
    "import numpy as np"
   ]
  },
  {
   "cell_type": "code",
   "execution_count": 2,
   "id": "75629005",
   "metadata": {},
   "outputs": [
    {
     "data": {
      "text/html": [
       "<div>\n",
       "<style scoped>\n",
       "    .dataframe tbody tr th:only-of-type {\n",
       "        vertical-align: middle;\n",
       "    }\n",
       "\n",
       "    .dataframe tbody tr th {\n",
       "        vertical-align: top;\n",
       "    }\n",
       "\n",
       "    .dataframe thead th {\n",
       "        text-align: right;\n",
       "    }\n",
       "</style>\n",
       "<table border=\"1\" class=\"dataframe\">\n",
       "  <thead>\n",
       "    <tr style=\"text-align: right;\">\n",
       "      <th></th>\n",
       "      <th>MDVP:Fo(Hz)</th>\n",
       "      <th>MDVP:Fhi(Hz)</th>\n",
       "      <th>MDVP:Flo(Hz)</th>\n",
       "      <th>MDVP:Jitter(%)</th>\n",
       "      <th>MDVP:Jitter(Abs)</th>\n",
       "      <th>MDVP:RAP</th>\n",
       "      <th>MDVP:PPQ</th>\n",
       "      <th>Jitter:DDP</th>\n",
       "      <th>MDVP:Shimmer</th>\n",
       "      <th>MDVP:Shimmer(dB)</th>\n",
       "      <th>...</th>\n",
       "      <th>Shimmer:DDA</th>\n",
       "      <th>NHR</th>\n",
       "      <th>HNR</th>\n",
       "      <th>RPDE</th>\n",
       "      <th>DFA</th>\n",
       "      <th>spread1</th>\n",
       "      <th>spread2</th>\n",
       "      <th>D2</th>\n",
       "      <th>PPE</th>\n",
       "      <th>status</th>\n",
       "    </tr>\n",
       "  </thead>\n",
       "  <tbody>\n",
       "    <tr>\n",
       "      <th>0</th>\n",
       "      <td>-0.829300</td>\n",
       "      <td>-0.436165</td>\n",
       "      <td>-0.952037</td>\n",
       "      <td>0.334914</td>\n",
       "      <td>0.749759</td>\n",
       "      <td>0.132963</td>\n",
       "      <td>0.760800</td>\n",
       "      <td>0.131755</td>\n",
       "      <td>0.745985</td>\n",
       "      <td>0.739536</td>\n",
       "      <td>...</td>\n",
       "      <td>0.607532</td>\n",
       "      <td>-0.067893</td>\n",
       "      <td>-0.193225</td>\n",
       "      <td>-0.807838</td>\n",
       "      <td>1.760814</td>\n",
       "      <td>0.801323</td>\n",
       "      <td>0.480477</td>\n",
       "      <td>-0.210531</td>\n",
       "      <td>0.868886</td>\n",
       "      <td>1</td>\n",
       "    </tr>\n",
       "    <tr>\n",
       "      <th>1</th>\n",
       "      <td>-0.770972</td>\n",
       "      <td>-0.530974</td>\n",
       "      <td>-0.057721</td>\n",
       "      <td>0.715418</td>\n",
       "      <td>1.037674</td>\n",
       "      <td>0.453892</td>\n",
       "      <td>1.276809</td>\n",
       "      <td>0.452684</td>\n",
       "      <td>1.681731</td>\n",
       "      <td>1.768464</td>\n",
       "      <td>...</td>\n",
       "      <td>1.548254</td>\n",
       "      <td>-0.137843</td>\n",
       "      <td>-0.634508</td>\n",
       "      <td>-0.387524</td>\n",
       "      <td>1.837562</td>\n",
       "      <td>1.479853</td>\n",
       "      <td>1.311185</td>\n",
       "      <td>0.275077</td>\n",
       "      <td>1.803605</td>\n",
       "      <td>1</td>\n",
       "    </tr>\n",
       "    <tr>\n",
       "      <th>2</th>\n",
       "      <td>-0.909476</td>\n",
       "      <td>-0.723168</td>\n",
       "      <td>-0.109875</td>\n",
       "      <td>0.884991</td>\n",
       "      <td>1.325589</td>\n",
       "      <td>0.720770</td>\n",
       "      <td>1.585687</td>\n",
       "      <td>0.721813</td>\n",
       "      <td>1.202693</td>\n",
       "      <td>1.027636</td>\n",
       "      <td>...</td>\n",
       "      <td>1.175323</td>\n",
       "      <td>-0.291633</td>\n",
       "      <td>-0.279760</td>\n",
       "      <td>-0.662075</td>\n",
       "      <td>1.942048</td>\n",
       "      <td>1.141445</td>\n",
       "      <td>1.017682</td>\n",
       "      <td>-0.103629</td>\n",
       "      <td>1.402661</td>\n",
       "      <td>1</td>\n",
       "    </tr>\n",
       "    <tr>\n",
       "      <th>3</th>\n",
       "      <td>-0.909622</td>\n",
       "      <td>-0.649092</td>\n",
       "      <td>-0.114229</td>\n",
       "      <td>0.775389</td>\n",
       "      <td>1.325589</td>\n",
       "      <td>0.578885</td>\n",
       "      <td>1.284076</td>\n",
       "      <td>0.577677</td>\n",
       "      <td>1.340396</td>\n",
       "      <td>1.207698</td>\n",
       "      <td>...</td>\n",
       "      <td>1.340229</td>\n",
       "      <td>-0.280719</td>\n",
       "      <td>-0.281346</td>\n",
       "      <td>-0.613134</td>\n",
       "      <td>1.832380</td>\n",
       "      <td>1.440945</td>\n",
       "      <td>1.293840</td>\n",
       "      <td>0.062145</td>\n",
       "      <td>1.806954</td>\n",
       "      <td>1</td>\n",
       "    </tr>\n",
       "    <tr>\n",
       "      <th>4</th>\n",
       "      <td>-0.925657</td>\n",
       "      <td>-0.606245</td>\n",
       "      <td>-0.130608</td>\n",
       "      <td>1.368893</td>\n",
       "      <td>1.901418</td>\n",
       "      <td>1.095750</td>\n",
       "      <td>2.047187</td>\n",
       "      <td>1.096793</td>\n",
       "      <td>1.836448</td>\n",
       "      <td>1.552389</td>\n",
       "      <td>...</td>\n",
       "      <td>1.899461</td>\n",
       "      <td>-0.178026</td>\n",
       "      <td>-0.506745</td>\n",
       "      <td>-0.783021</td>\n",
       "      <td>1.909364</td>\n",
       "      <td>1.780940</td>\n",
       "      <td>0.096195</td>\n",
       "      <td>-0.130026</td>\n",
       "      <td>2.267082</td>\n",
       "      <td>1</td>\n",
       "    </tr>\n",
       "  </tbody>\n",
       "</table>\n",
       "<p>5 rows × 23 columns</p>\n",
       "</div>"
      ],
      "text/plain": [
       "   MDVP:Fo(Hz)  MDVP:Fhi(Hz)  MDVP:Flo(Hz)  MDVP:Jitter(%)  MDVP:Jitter(Abs)  \\\n",
       "0    -0.829300     -0.436165     -0.952037        0.334914          0.749759   \n",
       "1    -0.770972     -0.530974     -0.057721        0.715418          1.037674   \n",
       "2    -0.909476     -0.723168     -0.109875        0.884991          1.325589   \n",
       "3    -0.909622     -0.649092     -0.114229        0.775389          1.325589   \n",
       "4    -0.925657     -0.606245     -0.130608        1.368893          1.901418   \n",
       "\n",
       "   MDVP:RAP  MDVP:PPQ  Jitter:DDP  MDVP:Shimmer  MDVP:Shimmer(dB)  ...  \\\n",
       "0  0.132963  0.760800    0.131755      0.745985          0.739536  ...   \n",
       "1  0.453892  1.276809    0.452684      1.681731          1.768464  ...   \n",
       "2  0.720770  1.585687    0.721813      1.202693          1.027636  ...   \n",
       "3  0.578885  1.284076    0.577677      1.340396          1.207698  ...   \n",
       "4  1.095750  2.047187    1.096793      1.836448          1.552389  ...   \n",
       "\n",
       "   Shimmer:DDA       NHR       HNR      RPDE       DFA   spread1   spread2  \\\n",
       "0     0.607532 -0.067893 -0.193225 -0.807838  1.760814  0.801323  0.480477   \n",
       "1     1.548254 -0.137843 -0.634508 -0.387524  1.837562  1.479853  1.311185   \n",
       "2     1.175323 -0.291633 -0.279760 -0.662075  1.942048  1.141445  1.017682   \n",
       "3     1.340229 -0.280719 -0.281346 -0.613134  1.832380  1.440945  1.293840   \n",
       "4     1.899461 -0.178026 -0.506745 -0.783021  1.909364  1.780940  0.096195   \n",
       "\n",
       "         D2       PPE  status  \n",
       "0 -0.210531  0.868886       1  \n",
       "1  0.275077  1.803605       1  \n",
       "2 -0.103629  1.402661       1  \n",
       "3  0.062145  1.806954       1  \n",
       "4 -0.130026  2.267082       1  \n",
       "\n",
       "[5 rows x 23 columns]"
      ]
     },
     "execution_count": 2,
     "metadata": {},
     "output_type": "execute_result"
    }
   ],
   "source": [
    "df = pd.read_csv('preprocessed_data.csv',index_col=0)\n",
    "df.head()"
   ]
  },
  {
   "cell_type": "code",
   "execution_count": 3,
   "id": "612509ce",
   "metadata": {},
   "outputs": [
    {
     "data": {
      "text/plain": [
       "Index(['MDVP:Fo(Hz)', 'MDVP:Fhi(Hz)', 'MDVP:Flo(Hz)', 'MDVP:Jitter(%)',\n",
       "       'MDVP:Jitter(Abs)', 'MDVP:RAP', 'MDVP:PPQ', 'Jitter:DDP',\n",
       "       'MDVP:Shimmer', 'MDVP:Shimmer(dB)', 'Shimmer:APQ3', 'Shimmer:APQ5',\n",
       "       'MDVP:APQ', 'Shimmer:DDA', 'NHR', 'HNR', 'RPDE', 'DFA', 'spread1',\n",
       "       'spread2', 'D2', 'PPE', 'status'],\n",
       "      dtype='object')"
      ]
     },
     "execution_count": 3,
     "metadata": {},
     "output_type": "execute_result"
    }
   ],
   "source": [
    "df.columns"
   ]
  },
  {
   "cell_type": "code",
   "execution_count": 4,
   "id": "946d5ab1",
   "metadata": {},
   "outputs": [],
   "source": [
    "# Here, we attempt to fit a random forest classifier to our data"
   ]
  },
  {
   "cell_type": "code",
   "execution_count": 5,
   "id": "4bd30d53",
   "metadata": {},
   "outputs": [],
   "source": [
    "x = df.drop('status',axis=1)\n",
    "y = df['status']"
   ]
  },
  {
   "cell_type": "code",
   "execution_count": 6,
   "id": "3a42b9f9",
   "metadata": {},
   "outputs": [],
   "source": [
    "from sklearn.model_selection import train_test_split\n",
    "xtrain, xtest, ytrain, ytest = train_test_split(x,y,test_size=0.2,random_state=34)"
   ]
  },
  {
   "cell_type": "code",
   "execution_count": 7,
   "id": "0b1378e6",
   "metadata": {},
   "outputs": [],
   "source": [
    "from sklearn.ensemble import RandomForestClassifier\n",
    "rfc = RandomForestClassifier(n_estimators=100)"
   ]
  },
  {
   "cell_type": "code",
   "execution_count": 8,
   "id": "26fbc35f",
   "metadata": {},
   "outputs": [
    {
     "data": {
      "text/plain": [
       "RandomForestClassifier()"
      ]
     },
     "execution_count": 8,
     "metadata": {},
     "output_type": "execute_result"
    }
   ],
   "source": [
    "rfc.fit(xtrain,ytrain)"
   ]
  },
  {
   "cell_type": "code",
   "execution_count": 9,
   "id": "445f7036",
   "metadata": {},
   "outputs": [],
   "source": [
    "ypred = rfc.predict(xtest)"
   ]
  },
  {
   "cell_type": "code",
   "execution_count": 10,
   "id": "80c3a1b1",
   "metadata": {},
   "outputs": [
    {
     "name": "stdout",
     "output_type": "stream",
     "text": [
      "              precision    recall  f1-score   support\n",
      "\n",
      "           0       0.62      1.00      0.77         5\n",
      "           1       1.00      0.91      0.95        34\n",
      "\n",
      "    accuracy                           0.92        39\n",
      "   macro avg       0.81      0.96      0.86        39\n",
      "weighted avg       0.95      0.92      0.93        39\n",
      "\n"
     ]
    }
   ],
   "source": [
    "from sklearn.metrics import classification_report, confusion_matrix\n",
    "print(classification_report(ypred, ytest))"
   ]
  },
  {
   "cell_type": "code",
   "execution_count": 11,
   "id": "62d64745",
   "metadata": {},
   "outputs": [],
   "source": [
    "# We might consider varying the number of decision tree that we use in our forest"
   ]
  },
  {
   "cell_type": "code",
   "execution_count": 12,
   "id": "7e92a37b",
   "metadata": {},
   "outputs": [],
   "source": [
    "from sklearn.metrics import accuracy_score"
   ]
  },
  {
   "cell_type": "code",
   "execution_count": 13,
   "id": "c5f9799f",
   "metadata": {},
   "outputs": [
    {
     "data": {
      "text/plain": [
       "[[1, 0.9230769230769231],\n",
       " [2, 0.9487179487179487],\n",
       " [3, 0.9230769230769231],\n",
       " [4, 0.9230769230769231],\n",
       " [5, 0.9487179487179487],\n",
       " [6, 0.9487179487179487],\n",
       " [7, 0.9230769230769231],\n",
       " [8, 0.9487179487179487],\n",
       " [9, 0.9230769230769231],\n",
       " [10, 0.9487179487179487],\n",
       " [11, 0.9230769230769231],\n",
       " [12, 0.9230769230769231],\n",
       " [13, 0.9230769230769231],\n",
       " [14, 0.9230769230769231],\n",
       " [15, 0.9487179487179487],\n",
       " [16, 0.9230769230769231],\n",
       " [17, 0.9230769230769231],\n",
       " [18, 0.9487179487179487],\n",
       " [19, 0.9230769230769231],\n",
       " [20, 0.9230769230769231],\n",
       " [21, 0.9230769230769231],\n",
       " [22, 0.9487179487179487],\n",
       " [23, 0.9487179487179487],\n",
       " [24, 0.9487179487179487],\n",
       " [25, 0.9487179487179487],\n",
       " [26, 0.9230769230769231],\n",
       " [27, 0.9230769230769231],\n",
       " [28, 0.9230769230769231],\n",
       " [29, 0.9230769230769231],\n",
       " [30, 0.9230769230769231],\n",
       " [31, 0.9230769230769231],\n",
       " [32, 0.9487179487179487],\n",
       " [33, 0.9487179487179487],\n",
       " [34, 0.9487179487179487],\n",
       " [35, 0.9230769230769231],\n",
       " [36, 0.9487179487179487],\n",
       " [37, 0.9487179487179487],\n",
       " [38, 0.9487179487179487],\n",
       " [39, 0.9230769230769231],\n",
       " [40, 0.9230769230769231],\n",
       " [41, 0.9230769230769231],\n",
       " [42, 0.9230769230769231],\n",
       " [43, 0.9230769230769231],\n",
       " [44, 0.9230769230769231],\n",
       " [45, 0.9487179487179487],\n",
       " [46, 0.9487179487179487],\n",
       " [47, 0.9230769230769231],\n",
       " [48, 0.9487179487179487],\n",
       " [49, 0.9487179487179487],\n",
       " [50, 0.9487179487179487],\n",
       " [51, 0.9230769230769231],\n",
       " [52, 0.9230769230769231],\n",
       " [53, 0.9487179487179487],\n",
       " [54, 0.9487179487179487],\n",
       " [55, 0.9230769230769231],\n",
       " [56, 0.9487179487179487],\n",
       " [57, 0.9230769230769231],\n",
       " [58, 0.9230769230769231],\n",
       " [59, 0.9230769230769231],\n",
       " [60, 0.9230769230769231],\n",
       " [61, 0.9487179487179487],\n",
       " [62, 0.9230769230769231],\n",
       " [63, 0.9230769230769231],\n",
       " [64, 0.8974358974358975],\n",
       " [65, 0.9230769230769231],\n",
       " [66, 0.9230769230769231],\n",
       " [67, 0.9230769230769231],\n",
       " [68, 0.9487179487179487],\n",
       " [69, 0.9487179487179487],\n",
       " [70, 0.9230769230769231],\n",
       " [71, 0.9230769230769231],\n",
       " [72, 0.9487179487179487],\n",
       " [73, 0.9230769230769231],\n",
       " [74, 0.9230769230769231],\n",
       " [75, 0.9230769230769231],\n",
       " [76, 0.9230769230769231],\n",
       " [77, 0.9230769230769231],\n",
       " [78, 0.9230769230769231],\n",
       " [79, 0.9487179487179487],\n",
       " [80, 0.9230769230769231],\n",
       " [81, 0.9487179487179487],\n",
       " [82, 0.9230769230769231],\n",
       " [83, 0.9230769230769231],\n",
       " [84, 0.9487179487179487],\n",
       " [85, 0.9487179487179487],\n",
       " [86, 0.9230769230769231],\n",
       " [87, 0.9230769230769231],\n",
       " [88, 0.9230769230769231],\n",
       " [89, 0.9230769230769231],\n",
       " [90, 0.9487179487179487],\n",
       " [91, 0.9230769230769231],\n",
       " [92, 0.9230769230769231],\n",
       " [93, 0.9487179487179487],\n",
       " [94, 0.9487179487179487],\n",
       " [95, 0.9230769230769231],\n",
       " [96, 0.9487179487179487],\n",
       " [97, 0.9230769230769231],\n",
       " [98, 0.9230769230769231],\n",
       " [99, 0.9487179487179487],\n",
       " [100, 0.9487179487179487],\n",
       " [101, 0.9230769230769231],\n",
       " [102, 0.9230769230769231],\n",
       " [103, 0.9230769230769231],\n",
       " [104, 0.9230769230769231],\n",
       " [105, 0.9230769230769231],\n",
       " [106, 0.9230769230769231],\n",
       " [107, 0.9230769230769231],\n",
       " [108, 0.9230769230769231],\n",
       " [109, 0.9230769230769231],\n",
       " [110, 0.9487179487179487],\n",
       " [111, 0.9230769230769231],\n",
       " [112, 0.9230769230769231],\n",
       " [113, 0.9487179487179487],\n",
       " [114, 0.9230769230769231],\n",
       " [115, 0.9230769230769231],\n",
       " [116, 0.9230769230769231],\n",
       " [117, 0.9487179487179487],\n",
       " [118, 0.9487179487179487],\n",
       " [119, 0.9487179487179487],\n",
       " [120, 0.9487179487179487],\n",
       " [121, 0.9230769230769231],\n",
       " [122, 0.9487179487179487],\n",
       " [123, 0.9487179487179487],\n",
       " [124, 0.9487179487179487],\n",
       " [125, 0.9230769230769231],\n",
       " [126, 0.9230769230769231],\n",
       " [127, 0.9230769230769231],\n",
       " [128, 0.9487179487179487],\n",
       " [129, 0.9230769230769231],\n",
       " [130, 0.9487179487179487],\n",
       " [131, 0.9487179487179487],\n",
       " [132, 0.9230769230769231],\n",
       " [133, 0.9487179487179487],\n",
       " [134, 0.9230769230769231],\n",
       " [135, 0.9230769230769231],\n",
       " [136, 0.9487179487179487],\n",
       " [137, 0.9487179487179487],\n",
       " [138, 0.9230769230769231],\n",
       " [139, 0.9230769230769231],\n",
       " [140, 0.9230769230769231],\n",
       " [141, 0.9230769230769231],\n",
       " [142, 0.9487179487179487],\n",
       " [143, 0.8974358974358975],\n",
       " [144, 0.9230769230769231],\n",
       " [145, 0.9487179487179487],\n",
       " [146, 0.9487179487179487],\n",
       " [147, 0.9230769230769231],\n",
       " [148, 0.9487179487179487],\n",
       " [149, 0.9487179487179487],\n",
       " [150, 0.9230769230769231],\n",
       " [151, 0.9487179487179487],\n",
       " [152, 0.9230769230769231],\n",
       " [153, 0.9487179487179487],\n",
       " [154, 0.9230769230769231],\n",
       " [155, 0.9230769230769231],\n",
       " [156, 0.9230769230769231],\n",
       " [157, 0.9487179487179487],\n",
       " [158, 0.9230769230769231],\n",
       " [159, 0.9230769230769231],\n",
       " [160, 0.9230769230769231],\n",
       " [161, 0.9487179487179487],\n",
       " [162, 0.9230769230769231],\n",
       " [163, 0.9487179487179487],\n",
       " [164, 0.9230769230769231],\n",
       " [165, 0.9230769230769231],\n",
       " [166, 0.9230769230769231],\n",
       " [167, 0.9230769230769231],\n",
       " [168, 0.9487179487179487],\n",
       " [169, 0.9230769230769231],\n",
       " [170, 0.9487179487179487],\n",
       " [171, 0.9487179487179487],\n",
       " [172, 0.9230769230769231],\n",
       " [173, 0.9230769230769231],\n",
       " [174, 0.9230769230769231],\n",
       " [175, 0.9487179487179487],\n",
       " [176, 0.9230769230769231],\n",
       " [177, 0.9487179487179487],\n",
       " [178, 0.9230769230769231],\n",
       " [179, 0.9487179487179487],\n",
       " [180, 0.9487179487179487],\n",
       " [181, 0.9230769230769231],\n",
       " [182, 0.8974358974358975],\n",
       " [183, 0.9230769230769231],\n",
       " [184, 0.9487179487179487],\n",
       " [185, 0.9230769230769231],\n",
       " [186, 0.9487179487179487],\n",
       " [187, 0.9230769230769231],\n",
       " [188, 0.9230769230769231],\n",
       " [189, 0.9487179487179487],\n",
       " [190, 0.9487179487179487],\n",
       " [191, 0.9230769230769231],\n",
       " [192, 0.9487179487179487],\n",
       " [193, 0.9230769230769231],\n",
       " [194, 0.9230769230769231],\n",
       " [195, 0.9230769230769231],\n",
       " [196, 0.9487179487179487],\n",
       " [197, 0.9230769230769231],\n",
       " [198, 0.9487179487179487],\n",
       " [199, 0.9230769230769231]]"
      ]
     },
     "execution_count": 13,
     "metadata": {},
     "output_type": "execute_result"
    }
   ],
   "source": [
    "results = []\n",
    "for i in range(1,200):\n",
    "    rfc = RandomForestClassifier(n_estimators=100)\n",
    "    rfc.fit(xtrain,ytrain)\n",
    "    ypred = rfc.predict(xtest)\n",
    "    \n",
    "    result = [i,accuracy_score(ypred,ytest)]\n",
    "    results.append(result)\n",
    "results"
   ]
  },
  {
   "cell_type": "code",
   "execution_count": null,
   "id": "075006f1",
   "metadata": {},
   "outputs": [],
   "source": []
  },
  {
   "cell_type": "code",
   "execution_count": 14,
   "id": "7f982683",
   "metadata": {},
   "outputs": [
    {
     "data": {
      "text/html": [
       "<div>\n",
       "<style scoped>\n",
       "    .dataframe tbody tr th:only-of-type {\n",
       "        vertical-align: middle;\n",
       "    }\n",
       "\n",
       "    .dataframe tbody tr th {\n",
       "        vertical-align: top;\n",
       "    }\n",
       "\n",
       "    .dataframe thead th {\n",
       "        text-align: right;\n",
       "    }\n",
       "</style>\n",
       "<table border=\"1\" class=\"dataframe\">\n",
       "  <thead>\n",
       "    <tr style=\"text-align: right;\">\n",
       "      <th></th>\n",
       "      <th>0</th>\n",
       "      <th>1</th>\n",
       "    </tr>\n",
       "  </thead>\n",
       "  <tbody>\n",
       "    <tr>\n",
       "      <th>0</th>\n",
       "      <td>1</td>\n",
       "      <td>0.923077</td>\n",
       "    </tr>\n",
       "    <tr>\n",
       "      <th>1</th>\n",
       "      <td>2</td>\n",
       "      <td>0.948718</td>\n",
       "    </tr>\n",
       "    <tr>\n",
       "      <th>2</th>\n",
       "      <td>3</td>\n",
       "      <td>0.923077</td>\n",
       "    </tr>\n",
       "    <tr>\n",
       "      <th>3</th>\n",
       "      <td>4</td>\n",
       "      <td>0.923077</td>\n",
       "    </tr>\n",
       "    <tr>\n",
       "      <th>4</th>\n",
       "      <td>5</td>\n",
       "      <td>0.948718</td>\n",
       "    </tr>\n",
       "  </tbody>\n",
       "</table>\n",
       "</div>"
      ],
      "text/plain": [
       "   0         1\n",
       "0  1  0.923077\n",
       "1  2  0.948718\n",
       "2  3  0.923077\n",
       "3  4  0.923077\n",
       "4  5  0.948718"
      ]
     },
     "execution_count": 14,
     "metadata": {},
     "output_type": "execute_result"
    }
   ],
   "source": [
    "resultdf = pd.DataFrame(results)\n",
    "resultdf.head()"
   ]
  },
  {
   "cell_type": "code",
   "execution_count": 15,
   "id": "f87e1c41",
   "metadata": {},
   "outputs": [
    {
     "data": {
      "text/html": [
       "<div>\n",
       "<style scoped>\n",
       "    .dataframe tbody tr th:only-of-type {\n",
       "        vertical-align: middle;\n",
       "    }\n",
       "\n",
       "    .dataframe tbody tr th {\n",
       "        vertical-align: top;\n",
       "    }\n",
       "\n",
       "    .dataframe thead th {\n",
       "        text-align: right;\n",
       "    }\n",
       "</style>\n",
       "<table border=\"1\" class=\"dataframe\">\n",
       "  <thead>\n",
       "    <tr style=\"text-align: right;\">\n",
       "      <th></th>\n",
       "      <th>Number of Trees</th>\n",
       "      <th>Accuracy Score</th>\n",
       "    </tr>\n",
       "  </thead>\n",
       "  <tbody>\n",
       "    <tr>\n",
       "      <th>0</th>\n",
       "      <td>1</td>\n",
       "      <td>0.923077</td>\n",
       "    </tr>\n",
       "    <tr>\n",
       "      <th>1</th>\n",
       "      <td>2</td>\n",
       "      <td>0.948718</td>\n",
       "    </tr>\n",
       "    <tr>\n",
       "      <th>2</th>\n",
       "      <td>3</td>\n",
       "      <td>0.923077</td>\n",
       "    </tr>\n",
       "    <tr>\n",
       "      <th>3</th>\n",
       "      <td>4</td>\n",
       "      <td>0.923077</td>\n",
       "    </tr>\n",
       "    <tr>\n",
       "      <th>4</th>\n",
       "      <td>5</td>\n",
       "      <td>0.948718</td>\n",
       "    </tr>\n",
       "  </tbody>\n",
       "</table>\n",
       "</div>"
      ],
      "text/plain": [
       "   Number of Trees  Accuracy Score\n",
       "0                1        0.923077\n",
       "1                2        0.948718\n",
       "2                3        0.923077\n",
       "3                4        0.923077\n",
       "4                5        0.948718"
      ]
     },
     "execution_count": 15,
     "metadata": {},
     "output_type": "execute_result"
    }
   ],
   "source": [
    "resultdf.rename(columns={0:'Number of Trees',1:'Accuracy Score'},inplace=True)\n",
    "resultdf.head()"
   ]
  },
  {
   "cell_type": "code",
   "execution_count": 16,
   "id": "9e803929",
   "metadata": {},
   "outputs": [
    {
     "data": {
      "text/plain": [
       "[<matplotlib.lines.Line2D at 0x7f94eaaf2ac0>]"
      ]
     },
     "execution_count": 16,
     "metadata": {},
     "output_type": "execute_result"
    },
    {
     "data": {
      "image/png": "[encoded data removed]",
      "text/plain": [
       "<Figure size 640x480 with 1 Axes>"
      ]
     },
     "metadata": {},
     "output_type": "display_data"
    }
   ],
   "source": [
    "import matplotlib.pyplot as plt\n",
    "plt.plot(resultdf['Accuracy Score'])"
   ]
  },
  {
   "cell_type": "code",
   "execution_count": 17,
   "id": "384c0df4",
   "metadata": {},
   "outputs": [],
   "source": [
    "# the random forest model seems to give an accuracy of about 92% on average "
   ]
  },
  {
   "cell_type": "code",
   "execution_count": 18,
   "id": "084e834e",
   "metadata": {},
   "outputs": [
    {
     "data": {
      "text/plain": [
       "False"
      ]
     },
     "execution_count": 18,
     "metadata": {},
     "output_type": "execute_result"
    }
   ],
   "source": [
    "trees = rfc.estimators_\n",
    "all_same = all(tree == trees[0] for tree in trees)\n",
    "all_same"
   ]
  },
  {
   "cell_type": "code",
   "execution_count": 19,
   "id": "ec113f59",
   "metadata": {},
   "outputs": [],
   "source": [
    "# All the trees are not the same in the random forest"
   ]
  },
  {
   "cell_type": "code",
   "execution_count": 20,
   "id": "20a2fdc3",
   "metadata": {},
   "outputs": [
    {
     "name": "stdout",
     "output_type": "stream",
     "text": [
      "[[ 5  0]\n",
      " [ 3 31]]\n"
     ]
    }
   ],
   "source": [
    "from sklearn.metrics import confusion_matrix\n",
    "print(confusion_matrix(ypred,ytest))"
   ]
  }
 ],
 "metadata": {
  "kernelspec": {
   "display_name": "Python 3 (ipykernel)",
   "language": "python",
   "name": "python3"
  },
  "language_info": {
   "codemirror_mode": {
    "name": "ipython",
    "version": 3
   },
   "file_extension": ".py",
   "mimetype": "text/x-python",
   "name": "python",
   "nbconvert_exporter": "python",
   "pygments_lexer": "ipython3",
   "version": "3.9.13"
  }
 },
 "nbformat": 4,
 "nbformat_minor": 5
}
